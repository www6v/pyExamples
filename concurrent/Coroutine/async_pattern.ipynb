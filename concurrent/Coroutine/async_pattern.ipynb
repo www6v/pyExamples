{
 "cells": [
  {
   "cell_type": "markdown",
   "id": "f644d69a-0c5c-4a4e-bcc8-55e553401fac",
   "metadata": {},
   "source": [
    "## Python `async` Usage\n",
    "\n",
    "| Syntax            | Purpose                          | Usage                                  |\n",
    "|-------------------|----------------------------------|----------------------------------------|\n",
    "| **`async def`**   | Define async/coroutine functions | `async def my_func():`                 |\n",
    "| - **`async for`** | Iterate over async iterators     | `async for item in async_generator():` |\n",
    "| - **`await`**     | Wait for **coroutine** objects   | `result = await some_coroutine()`      |\n",
    "| **`async with`**  | Async context managers           | `async with async_resource():`         |"
   ]
  },
  {
   "cell_type": "markdown",
   "id": "a76d1f1f-3a81-4f5a-a926-67690cffccf3",
   "metadata": {},
   "source": [
    "## The `async` syntax Rule\n",
    "\n",
    "| Function Pattern       | How to Consume              | What You Get       |\n",
    "|------------------------|-----------------------------|--------------------|\n",
    "| `async def` + `yield`  | `async for` item in func(): | Each yielded item  |\n",
    "| `async def` + `return` | result = `await` func()     | The returned value |\n",
    "\n",
    "`async def` with both `yield` and `return`\n",
    "\n",
    "- Any yield → AsyncGenerator → use async for (HIGH priority)\n",
    "- No yield → Coroutine → use await"
   ]
  },
  {
   "cell_type": "code",
   "execution_count": 3,
   "id": "41975751-6a15-40f5-b24c-d79cf0766fb1",
   "metadata": {},
   "outputs": [],
   "source": [
    "### `async def` + `yield`\n",
    "\n",
    "# Pattern 1: yield -> use async for\n",
    "async def get_users():\n",
    "    yield user1\n",
    "    yield user2\n",
    "    yield user3\n",
    "    # same as `return None`\n",
    "\n",
    "\n",
    "# ✅ Correct consumption\n",
    "async def my_function():\n",
    "    # `for user in await get_users():` -  ❌ Wrong - You may expect to see the keyword `await`\n",
    "    # but in fact - ✅ `async for` does the \"await\" in an iteration format\n",
    "    async for user in get_users():\n",
    "        process(user)\n",
    "\n",
    "\n",
    "# ❌ Wrong - can't await an AsyncGenerator\n",
    "##### result = await get_users()  # TypeError"
   ]
  },
  {
   "cell_type": "code",
   "execution_count": 7,
   "id": "0c69d5f6-1b8b-48ae-b8e5-2c4057169a26",
   "metadata": {},
   "outputs": [],
   "source": [
    "### `async def` + `return`\n",
    "\n",
    "# Pattern 2: return -> use await  \n",
    "async def get_user():\n",
    "    return single_user\n",
    "\n",
    "\n",
    "# ✅ Correct consumption\n",
    "async def my_function():\n",
    "    user = await get_user()\n",
    "\n",
    "\n",
    "# ❌ Wrong - can't iterate a Coroutine\n",
    "##### async for u in get_user():  # TypeError\n",
    "      "
   ]
  },
  {
   "cell_type": "code",
   "execution_count": 14,
   "id": "7a19cdd6-9832-499e-8549-0fc5d2545e1b",
   "metadata": {},
   "outputs": [
    {
     "name": "stdout",
     "output_type": "stream",
     "text": [
      "Looking in indexes: https://pypi.tuna.tsinghua.edu.cn/simple\n",
      "Requirement already satisfied: sqlalchemy in c:\\users\\www6v\\miniconda3\\lib\\site-packages (2.0.23)\n",
      "Requirement already satisfied: typing-extensions>=4.2.0 in c:\\users\\www6v\\miniconda3\\lib\\site-packages (from sqlalchemy) (4.8.0)\n",
      "Requirement already satisfied: greenlet!=0.4.17 in c:\\users\\www6v\\miniconda3\\lib\\site-packages (from sqlalchemy) (3.2.3)\n"
     ]
    }
   ],
   "source": [
    "! pip install sqlalchemy"
   ]
  },
  {
   "cell_type": "code",
   "execution_count": 16,
   "id": "484d1e66-7a6f-4d26-be61-0032e230a04b",
   "metadata": {},
   "outputs": [
    {
     "ename": "ModuleNotFoundError",
     "evalue": "No module named 'sqlalchemy'",
     "output_type": "error",
     "traceback": [
      "\u001b[1;31m---------------------------------------------------------------------------\u001b[0m",
      "\u001b[1;31mModuleNotFoundError\u001b[0m                       Traceback (most recent call last)",
      "Cell \u001b[1;32mIn[16], line 2\u001b[0m\n\u001b[0;32m      1\u001b[0m \u001b[38;5;28;01mfrom\u001b[39;00m \u001b[38;5;21;01mtyping\u001b[39;00m \u001b[38;5;28;01mimport\u001b[39;00m AsyncGenerator\n\u001b[1;32m----> 2\u001b[0m \u001b[38;5;28;01mfrom\u001b[39;00m \u001b[38;5;21;01msqlalchemy\u001b[39;00m\u001b[38;5;21;01m.\u001b[39;00m\u001b[38;5;21;01mext\u001b[39;00m\u001b[38;5;21;01m.\u001b[39;00m\u001b[38;5;21;01masyncio\u001b[39;00m \u001b[38;5;28;01mimport\u001b[39;00m AsyncSession\n\u001b[0;32m      3\u001b[0m \u001b[38;5;66;03m## async with\u001b[39;00m\n\u001b[0;32m      5\u001b[0m \u001b[38;5;28;01masync\u001b[39;00m \u001b[38;5;28;01mdef\u001b[39;00m \u001b[38;5;21mget_session\u001b[39m() \u001b[38;5;241m-\u001b[39m\u001b[38;5;241m>\u001b[39m AsyncGenerator[AsyncSession, \u001b[38;5;28;01mNone\u001b[39;00m]:  \u001b[38;5;66;03m# 3 ✅\u001b[39;00m\n\u001b[0;32m      6\u001b[0m     \u001b[38;5;66;03m# db_local_session = async_sessionmaker(...)\u001b[39;00m\n",
      "\u001b[1;31mModuleNotFoundError\u001b[0m: No module named 'sqlalchemy'"
     ]
    }
   ],
   "source": [
    "from typing import AsyncGenerator\n",
    "from sqlalchemy.ext.asyncio import AsyncSession\n",
    "## async with\n",
    "\n",
    "async def get_session() -> AsyncGenerator[AsyncSession, None]:  # 3 ✅\n",
    "    # db_local_session = async_sessionmaker(...)\n",
    "    async with Database.db_local_session() as session:  # 1 ✅\n",
    "        try:\n",
    "            yield session  # 4a ✅ `yield` relates to `async def`, the caller needs to use `async for`\n",
    "            await session.commit()  # 2 ✅\n",
    "        except Exception:\n",
    "            await session.rollback()\n",
    "            raise\n",
    "\n",
    "\n",
    "# ✅ Correct usage - async context manager\n",
    "@asynccontextmanager\n",
    "async def get_db_session() -> AsyncIterator[AsyncSession]:\n",
    "    async for session in Database.get_session():  # 4b ✅\n",
    "        yield session\n"
   ]
  },
  {
   "cell_type": "markdown",
   "id": "c9d1e8dd-e7b2-40fc-bd11-6cbfecdd2655",
   "metadata": {},
   "source": [
    "### The sequence:\n",
    "\n",
    "1. ✅ `async with` needed because `Database.db_local_session()` **returns** an async context manager\n",
    "2. ✅ `await` needed because `session.commit()` is an async function\n",
    "1. ✅ `async def` needed because we use `async with` keyword inside\n",
    "3. ✅ `async def` needed because we use `await` keyword inside\n",
    "4. ✅ `async def` + `yield` (4a) needs `async for` (4b)\n",
    "\n",
    "### Async Context Manager - means it has `__aenter__` and `__aexit__`\n",
    "\n",
    "```python\n",
    "# Database.session() returns an object that has:\n",
    "class AsyncSession:\n",
    "    async def __aenter__(self): ...  # ← async context manager\n",
    "\n",
    "    async def __aexit__(self): ...  # ← async context manager\n",
    "```\n",
    "\n",
    "### `await` has nothing to do with `async with`\n",
    "\n",
    "| Keyword      | Why Needed                                                  |\n",
    "|--------------|-------------------------------------------------------------|\n",
    "| `await`      | `session.commit()` is async                                 |\n",
    "| `async with` | `Database.db_local_session()` returns async context manager |\n"
   ]
  },
  {
   "cell_type": "code",
   "execution_count": null,
   "id": "00f157be-e9ea-4221-a408-b7f2844b5eff",
   "metadata": {},
   "outputs": [],
   "source": []
  }
 ],
 "metadata": {
  "kernelspec": {
   "display_name": "Python 3 (ipykernel)",
   "language": "python",
   "name": "python3"
  },
  "language_info": {
   "codemirror_mode": {
    "name": "ipython",
    "version": 3
   },
   "file_extension": ".py",
   "mimetype": "text/x-python",
   "name": "python",
   "nbconvert_exporter": "python",
   "pygments_lexer": "ipython3",
   "version": "3.9.13"
  }
 },
 "nbformat": 4,
 "nbformat_minor": 5
}
